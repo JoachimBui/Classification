{
 "cells": [
  {
   "cell_type": "code",
   "execution_count": 2,
   "metadata": {},
   "outputs": [],
   "source": [
    "# import packages\n",
    "import scipy.io\n",
    "import matplotlib.pyplot as plt\n",
    "from matplotlib import cm\n",
    "from mpl_toolkits.mplot3d import Axes3D\n",
    "import numpy as np\n",
    "from sklearn import tree\n",
    "\n",
    "# read datasets\n",
    "test = scipy.io.loadmat('All_Data.mat')\n"
   ]
  },
  {
   "cell_type": "code",
   "execution_count": 7,
   "metadata": {},
   "outputs": [
    {
     "data": {
      "text/plain": [
       "{'__header__': b'MATLAB 5.0 MAT-file, Platform: PCWIN64, Created on: Thu Feb 25 20:43:50 2021',\n",
       " '__version__': '1.0',\n",
       " '__globals__': [],\n",
       " 'All_Data': array([[  1.        , 348.65997281,   1.39232307, ...,  82.5       ,\n",
       "          55.        ,  74.        ],\n",
       "        [  1.        , 348.9128077 ,   1.39333273, ...,  82.5       ,\n",
       "          55.        ,  74.        ],\n",
       "        [  1.        , 349.17378086,   1.39437488, ...,  82.5       ,\n",
       "          55.        ,  74.        ],\n",
       "        ...,\n",
       "        [ 17.        , 115.89361042,   0.46390103, ...,  78.        ,\n",
       "          57.        ,  77.        ],\n",
       "        [ 17.        , 112.82840255,   0.45163156, ...,  78.        ,\n",
       "          57.        ,  77.        ],\n",
       "        [ 17.        , 109.51202689,   0.43835671, ...,  78.        ,\n",
       "          57.        ,  77.        ]])}"
      ]
     },
     "execution_count": 7,
     "metadata": {},
     "output_type": "execute_result"
    }
   ],
   "source": [
    "test"
   ]
  },
  {
   "cell_type": "code",
   "execution_count": 6,
   "metadata": {},
   "outputs": [
    {
     "data": {
      "text/plain": [
       "array([[  1.        , 348.65997281,   1.39232307, ...,  82.5       ,\n",
       "         55.        ,  74.        ],\n",
       "       [  1.        , 348.9128077 ,   1.39333273, ...,  82.5       ,\n",
       "         55.        ,  74.        ],\n",
       "       [  1.        , 349.17378086,   1.39437488, ...,  82.5       ,\n",
       "         55.        ,  74.        ],\n",
       "       ...,\n",
       "       [ 17.        , 115.89361042,   0.46390103, ...,  78.        ,\n",
       "         57.        ,  77.        ],\n",
       "       [ 17.        , 112.82840255,   0.45163156, ...,  78.        ,\n",
       "         57.        ,  77.        ],\n",
       "       [ 17.        , 109.51202689,   0.43835671, ...,  78.        ,\n",
       "         57.        ,  77.        ]])"
      ]
     },
     "execution_count": 6,
     "metadata": {},
     "output_type": "execute_result"
    }
   ],
   "source": [
    "test['All_Data']"
   ]
  },
  {
   "cell_type": "code",
   "execution_count": 8,
   "metadata": {},
   "outputs": [
    {
     "data": {
      "text/plain": [
       "(65535, 36)"
      ]
     },
     "execution_count": 8,
     "metadata": {},
     "output_type": "execute_result"
    }
   ],
   "source": [
    "test['All_Data'].shape"
   ]
  },
  {
   "cell_type": "code",
   "execution_count": 17,
   "metadata": {},
   "outputs": [
    {
     "data": {
      "text/plain": [
       "(65535, 3)"
      ]
     },
     "execution_count": 17,
     "metadata": {},
     "output_type": "execute_result"
    }
   ],
   "source": [
    "test['All_Data'][:, 2:5].shape"
   ]
  },
  {
   "cell_type": "code",
   "execution_count": 28,
   "metadata": {},
   "outputs": [
    {
     "data": {
      "text/plain": [
       "array([ 1.,  2.,  3.,  4.,  5.,  6.,  7.,  8.,  9., 10., 12.])"
      ]
     },
     "execution_count": 28,
     "metadata": {},
     "output_type": "execute_result"
    }
   ],
   "source": [
    "from sklearn.model_selection import train_test_split\n",
    "X = test['All_Data'][:, 2:5]\n",
    "Y = test['All_Data'][:, 26]\n",
    "\n",
    "X_train, X_test, y_train, y_test = train_test_split(X, Y, test_size=0.2, random_state=42)\n",
    "\n",
    "clf = tree.DecisionTreeClassifier()\n",
    "clf = clf.fit(X_train, y_train)\n",
    "\n",
    "y_predict_train = clf.predict(X_train)\n",
    "y_predict_test = clf.predict(X_test)\n",
    "np.unique(y_predict_test)"
   ]
  },
  {
   "cell_type": "code",
   "execution_count": 42,
   "metadata": {},
   "outputs": [
    {
     "name": "stdout",
     "output_type": "stream",
     "text": [
      "              precision    recall  f1-score   support\n",
      "\n",
      "         1.0       1.00      1.00      1.00      3253\n",
      "         2.0       1.00      1.00      1.00      3238\n",
      "         3.0       1.00      1.00      1.00      3091\n",
      "         4.0       1.00      1.00      1.00      3072\n",
      "         5.0       1.00      1.00      1.00      3098\n",
      "         6.0       1.00      1.00      1.00      3091\n",
      "         7.0       1.00      1.00      1.00      3050\n",
      "         8.0       1.00      1.00      1.00      3067\n",
      "         9.0       1.00      1.00      1.00      3096\n",
      "        10.0       1.00      1.00      1.00      1724\n",
      "        12.0       1.00      1.00      1.00     22648\n",
      "\n",
      "    accuracy                           1.00     52428\n",
      "   macro avg       1.00      1.00      1.00     52428\n",
      "weighted avg       1.00      1.00      1.00     52428\n",
      "\n",
      "############################################################\n",
      "              precision    recall  f1-score   support\n",
      "\n",
      "         1.0       0.77      0.77      0.77       827\n",
      "         2.0       0.76      0.77      0.77       842\n",
      "         3.0       0.75      0.77      0.76       749\n",
      "         4.0       0.58      0.58      0.58       768\n",
      "         5.0       0.50      0.54      0.52       742\n",
      "         6.0       0.55      0.53      0.54       749\n",
      "         7.0       0.39      0.39      0.39       790\n",
      "         8.0       0.60      0.63      0.61       773\n",
      "         9.0       0.42      0.40      0.41       744\n",
      "        10.0       0.71      0.67      0.69       448\n",
      "        12.0       0.72      0.71      0.72      5675\n",
      "\n",
      "    accuracy                           0.65     13107\n",
      "   macro avg       0.61      0.61      0.61     13107\n",
      "weighted avg       0.65      0.65      0.65     13107\n",
      "\n"
     ]
    }
   ],
   "source": [
    "from sklearn.metrics import classification_report\n",
    "print(classification_report(y_train, y_predict_train))\n",
    "print('#' * 60)\n",
    "print(classification_report(y_test, y_predict_test))"
   ]
  },
  {
   "cell_type": "code",
   "execution_count": 43,
   "metadata": {},
   "outputs": [],
   "source": [
    "from sklearn.ensemble import RandomForestClassifier\n",
    "rf = RandomForestClassifier(max_depth=2, random_state=0)\n",
    "rf = clf.fit(X_train, y_train)\n",
    "\n",
    "y_predict_train_rf = clf.predict(X_train)\n",
    "y_predict_test_rf = clf.predict(X_test)"
   ]
  },
  {
   "cell_type": "code",
   "execution_count": 44,
   "metadata": {},
   "outputs": [
    {
     "name": "stdout",
     "output_type": "stream",
     "text": [
      "              precision    recall  f1-score   support\n",
      "\n",
      "         1.0       1.00      1.00      1.00      3253\n",
      "         2.0       1.00      1.00      1.00      3238\n",
      "         3.0       1.00      1.00      1.00      3091\n",
      "         4.0       1.00      1.00      1.00      3072\n",
      "         5.0       1.00      1.00      1.00      3098\n",
      "         6.0       1.00      1.00      1.00      3091\n",
      "         7.0       1.00      1.00      1.00      3050\n",
      "         8.0       1.00      1.00      1.00      3067\n",
      "         9.0       1.00      1.00      1.00      3096\n",
      "        10.0       1.00      1.00      1.00      1724\n",
      "        12.0       1.00      1.00      1.00     22648\n",
      "\n",
      "    accuracy                           1.00     52428\n",
      "   macro avg       1.00      1.00      1.00     52428\n",
      "weighted avg       1.00      1.00      1.00     52428\n",
      "\n",
      "############################################################\n",
      "              precision    recall  f1-score   support\n",
      "\n",
      "         1.0       0.77      0.76      0.77       827\n",
      "         2.0       0.78      0.78      0.78       842\n",
      "         3.0       0.75      0.77      0.76       749\n",
      "         4.0       0.58      0.59      0.59       768\n",
      "         5.0       0.50      0.54      0.52       742\n",
      "         6.0       0.55      0.52      0.54       749\n",
      "         7.0       0.39      0.39      0.39       790\n",
      "         8.0       0.61      0.62      0.62       773\n",
      "         9.0       0.41      0.40      0.41       744\n",
      "        10.0       0.71      0.67      0.69       448\n",
      "        12.0       0.72      0.72      0.72      5675\n",
      "\n",
      "    accuracy                           0.65     13107\n",
      "   macro avg       0.62      0.61      0.61     13107\n",
      "weighted avg       0.65      0.65      0.65     13107\n",
      "\n"
     ]
    }
   ],
   "source": [
    "print(classification_report(y_train, y_predict_train_rf))\n",
    "print('#' * 60)\n",
    "print(classification_report(y_test, y_predict_test_rf))"
   ]
  },
  {
   "cell_type": "code",
   "execution_count": null,
   "metadata": {},
   "outputs": [],
   "source": []
  }
 ],
 "metadata": {
  "kernelspec": {
   "display_name": "Python 3",
   "language": "python",
   "name": "python3"
  },
  "language_info": {
   "codemirror_mode": {
    "name": "ipython",
    "version": 3
   },
   "file_extension": ".py",
   "mimetype": "text/x-python",
   "name": "python",
   "nbconvert_exporter": "python",
   "pygments_lexer": "ipython3",
   "version": "3.8.3"
  }
 },
 "nbformat": 4,
 "nbformat_minor": 4
}
